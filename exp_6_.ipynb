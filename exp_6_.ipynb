{
  "nbformat": 4,
  "nbformat_minor": 0,
  "metadata": {
    "colab": {
      "provenance": []
    },
    "kernelspec": {
      "name": "python3",
      "display_name": "Python 3"
    },
    "language_info": {
      "name": "python"
    }
  },
  "cells": [
    {
      "cell_type": "code",
      "execution_count": 5,
      "metadata": {
        "colab": {
          "base_uri": "https://localhost:8080/"
        },
        "id": "dsErOI1ifyBm",
        "outputId": "3e7455a1-4040-4d82-cc5e-e4ee91d2ec5f"
      },
      "outputs": [
        {
          "output_type": "stream",
          "name": "stdout",
          "text": [
            "                         reviewTitle Sentiment\n",
            "0                               Good  Positive\n",
            "1   Decent phone with some drawbacks  Positive\n",
            "2                       Good product  Positive\n",
            "3                             📷 Best  Positive\n",
            "4                Not Fully Optimized   Neutral\n",
            "..                               ...       ...\n",
            "75                         VERY NICE  Positive\n",
            "76                        nice phone  Positive\n",
            "77                Not upto the mark.   Neutral\n",
            "78                   It's great deal  Positive\n",
            "79                        Very phone  Positive\n",
            "\n",
            "[80 rows x 2 columns]\n"
          ]
        }
      ],
      "source": [
        "import pandas as pd\n",
        "from textblob import TextBlob\n",
        "import matplotlib.pyplot as plt\n",
        "# Load the dataset from CSV file\n",
        "df = pd.read_csv('amazon-reviews.csv')\n",
        "\n",
        "# Handle missing values in the 'Review' column\n",
        "df['reviewTitle'].fillna('', inplace=True)\n",
        "\n",
        "# Perform sentiment analysis on each review\n",
        "sentiments = []\n",
        "for review in df['reviewTitle']:\n",
        "    sentiment_score = TextBlob(str(review)).sentiment.polarity\n",
        "    if sentiment_score > 0:\n",
        "        sentiment = 'Positive'\n",
        "    elif sentiment_score < 0:\n",
        "        sentiment = 'Negative'\n",
        "    else:\n",
        "        sentiment = 'Neutral'\n",
        "    sentiments.append(sentiment)\n",
        "\n",
        "# Add sentiment analysis results to the DataFrame\n",
        "df['Sentiment'] = sentiments\n",
        "\n",
        "# Display the DataFrame with sentiment analysis results\n",
        "print(df[['reviewTitle', 'Sentiment']])"
      ]
    },
    {
      "cell_type": "code",
      "source": [
        "positive_reviews = df[df['Sentiment'] == 'Positive']\n",
        "# Display only the positive sentiment reviews\n",
        "print(positive_reviews[['reviewTitle', 'Sentiment']])"
      ],
      "metadata": {
        "colab": {
          "base_uri": "https://localhost:8080/"
        },
        "id": "ZV7eal5ngoLj",
        "outputId": "8bf6c6a4-c9cf-4164-9d27-60ef2b929d32"
      },
      "execution_count": 7,
      "outputs": [
        {
          "output_type": "stream",
          "name": "stdout",
          "text": [
            "                                          reviewTitle Sentiment\n",
            "0                                                Good  Positive\n",
            "1                    Decent phone with some drawbacks  Positive\n",
            "2                                        Good product  Positive\n",
            "3                                              📷 Best  Positive\n",
            "5             Absolute Beast, Low budget, Daily Usage  Positive\n",
            "6                                                Good  Positive\n",
            "7                                          Good phone  Positive\n",
            "8                                               Super  Positive\n",
            "9                               Excellent performance  Positive\n",
            "11                                       Best product  Positive\n",
            "13                          nice phone in this budget  Positive\n",
            "14                                    Daily used good  Positive\n",
            "17                        Best phone this price range  Positive\n",
            "19                                                 Ok  Positive\n",
            "20                           Excellent back up device  Positive\n",
            "22                           Nice phone except price.  Positive\n",
            "24                                               Good  Positive\n",
            "25                                     Mobile is good  Positive\n",
            "26                              Battery capacity Good  Positive\n",
            "27                                     Nice 👍 product  Positive\n",
            "28                                             Decent  Positive\n",
            "36                                        My use nice  Positive\n",
            "43                               Great deal at amazon  Positive\n",
            "44  Very good product battery backup & camera & pr...  Positive\n",
            "45                                         Good phone  Positive\n",
            "48                                             Superb  Positive\n",
            "50                                               Nice  Positive\n",
            "51                                       Good product  Positive\n",
            "52                              Good phone in budjet.  Positive\n",
            "53                              Nice 👍👍👍 very good 👍👍  Positive\n",
            "54                                         Good phone  Positive\n",
            "55                                         Nice phone  Positive\n",
            "56                                               Good  Positive\n",
            "58              Very worthed price and superb quality  Positive\n",
            "60                                               Good  Positive\n",
            "61                                               Nice  Positive\n",
            "62                            The design is beautiful  Positive\n",
            "64                                  nice budget phone  Positive\n",
            "65                                     Lock very nice  Positive\n",
            "67                                       Good product  Positive\n",
            "69                                          Worth it!  Positive\n",
            "70                                 Nice at this price  Positive\n",
            "71                                               Good  Positive\n",
            "74                                         High price  Positive\n",
            "75                                          VERY NICE  Positive\n",
            "76                                         nice phone  Positive\n",
            "78                                    It's great deal  Positive\n",
            "79                                         Very phone  Positive\n"
          ]
        }
      ]
    },
    {
      "cell_type": "code",
      "source": [
        "neutral_reviews = df[df['Sentiment'] == 'Neutral']\n",
        "print(neutral_reviews['Sentiment'])"
      ],
      "metadata": {
        "colab": {
          "base_uri": "https://localhost:8080/"
        },
        "id": "3vQgE1Wxg1TH",
        "outputId": "0d18da9a-8696-41e8-b00f-125bd538cd18"
      },
      "execution_count": 6,
      "outputs": [
        {
          "output_type": "stream",
          "name": "stdout",
          "text": [
            "4     Neutral\n",
            "10    Neutral\n",
            "12    Neutral\n",
            "15    Neutral\n",
            "16    Neutral\n",
            "21    Neutral\n",
            "23    Neutral\n",
            "29    Neutral\n",
            "32    Neutral\n",
            "33    Neutral\n",
            "34    Neutral\n",
            "38    Neutral\n",
            "39    Neutral\n",
            "40    Neutral\n",
            "42    Neutral\n",
            "46    Neutral\n",
            "47    Neutral\n",
            "49    Neutral\n",
            "57    Neutral\n",
            "59    Neutral\n",
            "63    Neutral\n",
            "66    Neutral\n",
            "68    Neutral\n",
            "72    Neutral\n",
            "73    Neutral\n",
            "77    Neutral\n",
            "Name: Sentiment, dtype: object\n"
          ]
        }
      ]
    },
    {
      "cell_type": "code",
      "source": [
        "negative_reviews = df[df['Sentiment'] == 'Negative']\n",
        "print(negative_reviews['Sentiment'])"
      ],
      "metadata": {
        "colab": {
          "base_uri": "https://localhost:8080/"
        },
        "id": "Tdkt5mIZiAan",
        "outputId": "6be4cc56-f50d-465c-a2d5-c56d98296b05"
      },
      "execution_count": 8,
      "outputs": [
        {
          "output_type": "stream",
          "name": "stdout",
          "text": [
            "18    Negative\n",
            "30    Negative\n",
            "31    Negative\n",
            "35    Negative\n",
            "37    Negative\n",
            "41    Negative\n",
            "Name: Sentiment, dtype: object\n"
          ]
        }
      ]
    },
    {
      "cell_type": "code",
      "source": [
        "plt.figure(figsize=(10, 6))\n",
        "sentiment_counts = df['Sentiment'].value_counts()\n",
        "# Plot for Positive Sentiment\n",
        "plt.subplot(1, 3, 1)\n",
        "plt.bar(sentiment_counts.index, sentiment_counts.values, color=['green', 'red', 'blue'])\n",
        "plt.title('Sentiment Distribution')\n",
        "plt.xlabel('Sentiment')\n",
        "plt.ylabel('Number of Reviews')\n",
        "\n",
        "plt.tight_layout()\n",
        "plt.show()"
      ],
      "metadata": {
        "colab": {
          "base_uri": "https://localhost:8080/",
          "height": 607
        },
        "id": "qksgvSupJu0U",
        "outputId": "0a28b92e-2804-4fd6-b42a-56f6edd6f6ed"
      },
      "execution_count": 12,
      "outputs": [
        {
          "output_type": "display_data",
          "data": {
            "text/plain": [
              "<Figure size 1000x600 with 1 Axes>"
            ],
            "image/png": "[encoded data removed]"
          },
          "metadata": {}
        }
      ]
    },
    {
      "cell_type": "code",
      "source": [],
      "metadata": {
        "id": "Y4FzzenfiAeB"
      },
      "execution_count": null,
      "outputs": []
    }
  ]
}